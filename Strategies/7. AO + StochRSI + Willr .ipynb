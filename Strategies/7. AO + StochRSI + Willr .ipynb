{
 "cells": [
  {
   "cell_type": "markdown",
   "id": "e1116b1a",
   "metadata": {},
   "source": [
    "# AO + StochRSI + Willr\n",
    "### buy--condition : AO >= 0 and Willr < - 85\n",
    "### sell--condition : AO < 0 and Willr > -10 and StochRSI > 0.2 "
   ]
  },
  {
   "cell_type": "code",
   "execution_count": 37,
   "id": "3e82a10f",
   "metadata": {},
   "outputs": [
    {
     "name": "stdout",
     "output_type": "stream",
     "text": [
      "Indicators loaded 100%\n"
     ]
    }
   ],
   "source": [
    "# -- Indicator variable --\n",
    "aoParam1 = 6\n",
    "aoParam2 = 22\n",
    "stochWindow = 14\n",
    "willWindow = 14\n",
    "\n",
    "df.drop(columns=df.columns.difference(['open','high','low','close','volume']), inplace=True)\n",
    "\n",
    "df['AO']= ta.momentum.awesome_oscillator(df['high'],df['low'],window1=aoParam1,window2=aoParam2)\n",
    "\n",
    "df['STOCH_RSI'] = ta.momentum.stochrsi(close=df['close'], window=stochWindow)\n",
    "\n",
    "df['WillR'] = ta.momentum.williams_r(high=df['high'], low=df['low'], close=df['close'], lbp=willWindow)\n",
    "\n",
    "print(\"Indicators loaded 100%\")"
   ]
  },
  {
   "cell_type": "code",
   "execution_count": null,
   "id": "d7d1bfd1",
   "metadata": {},
   "outputs": [],
   "source": []
  }
 ],
 "metadata": {
  "kernelspec": {
   "display_name": "Python 3",
   "language": "python",
   "name": "python3"
  },
  "language_info": {
   "codemirror_mode": {
    "name": "ipython",
    "version": 3
   },
   "file_extension": ".py",
   "mimetype": "text/x-python",
   "name": "python",
   "nbconvert_exporter": "python",
   "pygments_lexer": "ipython3",
   "version": "3.8.8"
  }
 },
 "nbformat": 4,
 "nbformat_minor": 5
}
